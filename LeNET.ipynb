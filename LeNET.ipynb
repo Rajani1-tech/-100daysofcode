{
  "nbformat": 4,
  "nbformat_minor": 0,
  "metadata": {
    "colab": {
      "provenance": [],
      "authorship_tag": "ABX9TyNqds1dNtcRwQq4liRMUSYF",
      "include_colab_link": true
    },
    "kernelspec": {
      "name": "python3",
      "display_name": "Python 3"
    },
    "language_info": {
      "name": "python"
    }
  },
  "cells": [
    {
      "cell_type": "markdown",
      "metadata": {
        "id": "view-in-github",
        "colab_type": "text"
      },
      "source": [
        "<a href=\"https://colab.research.google.com/github/Rajani1-tech/-100daysofcode/blob/main/LeNET.ipynb\" target=\"_parent\"><img src=\"https://colab.research.google.com/assets/colab-badge.svg\" alt=\"Open In Colab\"/></a>"
      ]
    },
    {
      "cell_type": "code",
      "execution_count": 5,
      "metadata": {
        "colab": {
          "base_uri": "https://localhost:8080/"
        },
        "id": "Yj2v0VF4l6pD",
        "outputId": "30313c3f-0a69-472c-c90b-c6f949656616"
      },
      "outputs": [
        {
          "output_type": "stream",
          "name": "stdout",
          "text": [
            "Model: \"sequential_2\"\n",
            "_________________________________________________________________\n",
            " Layer (type)                Output Shape              Param #   \n",
            "=================================================================\n",
            " conv2d_3 (Conv2D)           (None, 30, 30, 6)         60        \n",
            "                                                                 \n",
            " average_pooling2d_3 (Averag  (None, 15, 15, 6)        0         \n",
            " ePooling2D)                                                     \n",
            "                                                                 \n",
            " conv2d_4 (Conv2D)           (None, 13, 13, 16)        880       \n",
            "                                                                 \n",
            " average_pooling2d_4 (Averag  (None, 6, 6, 16)         0         \n",
            " ePooling2D)                                                     \n",
            "                                                                 \n",
            " flatten_1 (Flatten)         (None, 576)               0         \n",
            "                                                                 \n",
            " dense_3 (Dense)             (None, 120)               69240     \n",
            "                                                                 \n",
            " dense_4 (Dense)             (None, 84)                10164     \n",
            "                                                                 \n",
            " dense_5 (Dense)             (None, 10)                850       \n",
            "                                                                 \n",
            "=================================================================\n",
            "Total params: 81,194\n",
            "Trainable params: 81,194\n",
            "Non-trainable params: 0\n",
            "_________________________________________________________________\n"
          ]
        }
      ],
      "source": [
        "# a keras Implementation of the LeNET-5 deep learning\n",
        "# neural network and the output of the summary of the modelrom keras.models\n",
        "#import Sequential\n",
        "import tensorflow as tf \n",
        "from tensorflow.keras import layers\n",
        "from keras.models import Sequential \n",
        "from keras.layers import Dense, Conv2D, Flatten, AveragePooling2D\n",
        "from keras import optimizers\n",
        "model = Sequential()\n",
        "model.add(Conv2D(filters=6, kernel_size=(3,3),\n",
        "                 activation='relu', input_shape=(32,32,1)))\n",
        "model.add(AveragePooling2D())\n",
        "model.add(Conv2D(filters=16, kernel_size=(3,3), activation='relu'))\n",
        "model.add(AveragePooling2D())\n",
        "model.add(Flatten())\n",
        "model.add(Dense(units=120, activation='relu'))\n",
        "model.add(Dense(units=84, activation='relu'))\n",
        "model.add(Dense(units=10, activation='softmax'))\n",
        "model.summary()"
      ]
    },
    {
      "cell_type": "code",
      "source": [],
      "metadata": {
        "id": "O4kUCbhHl_aF"
      },
      "execution_count": null,
      "outputs": []
    }
  ]
}