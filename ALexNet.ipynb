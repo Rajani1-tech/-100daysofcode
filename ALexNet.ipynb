{
  "nbformat": 4,
  "nbformat_minor": 0,
  "metadata": {
    "colab": {
      "provenance": [],
      "authorship_tag": "ABX9TyPuKmSfpnzf5tppQdUF8Srl",
      "include_colab_link": true
    },
    "kernelspec": {
      "name": "python3",
      "display_name": "Python 3"
    },
    "language_info": {
      "name": "python"
    }
  },
  "cells": [
    {
      "cell_type": "markdown",
      "metadata": {
        "id": "view-in-github",
        "colab_type": "text"
      },
      "source": [
        "<a href=\"https://colab.research.google.com/github/Rajani1-tech/-100daysofcode/blob/main/ALexNet.ipynb\" target=\"_parent\"><img src=\"https://colab.research.google.com/assets/colab-badge.svg\" alt=\"Open In Colab\"/></a>"
      ]
    },
    {
      "cell_type": "code",
      "execution_count": 3,
      "metadata": {
        "colab": {
          "base_uri": "https://localhost:8080/"
        },
        "id": "LeIGolXG-aWm",
        "outputId": "331de807-dfbc-4d3a-8054-3b5c4ab5af82"
      },
      "outputs": [
        {
          "output_type": "stream",
          "name": "stdout",
          "text": [
            "Model: \"sequential\"\n",
            "_________________________________________________________________\n",
            " Layer (type)                Output Shape              Param #   \n",
            "=================================================================\n",
            " conv2d (Conv2D)             (None, 54, 54, 96)        34944     \n",
            "                                                                 \n",
            " conv2d_1 (Conv2D)           (None, 44, 44, 256)       2973952   \n",
            "                                                                 \n",
            " max_pooling2d (MaxPooling2D  (None, 22, 22, 256)      0         \n",
            " )                                                               \n",
            "                                                                 \n",
            " conv2d_2 (Conv2D)           (None, 20, 20, 384)       885120    \n",
            "                                                                 \n",
            " conv2d_3 (Conv2D)           (None, 18, 18, 384)       1327488   \n",
            "                                                                 \n",
            " conv2d_4 (Conv2D)           (None, 16, 16, 256)       884992    \n",
            "                                                                 \n",
            " max_pooling2d_1 (MaxPooling  (None, 8, 8, 256)        0         \n",
            " 2D)                                                             \n",
            "                                                                 \n",
            " flatten (Flatten)           (None, 16384)             0         \n",
            "                                                                 \n",
            " dense (Dense)               (None, 4096)              67112960  \n",
            "                                                                 \n",
            " dropout (Dropout)           (None, 4096)              0         \n",
            "                                                                 \n",
            " dense_1 (Dense)             (None, 4096)              16781312  \n",
            "                                                                 \n",
            " dropout_1 (Dropout)         (None, 4096)              0         \n",
            "                                                                 \n",
            " dense_2 (Dense)             (None, 1000)              4097000   \n",
            "                                                                 \n",
            " dropout_2 (Dropout)         (None, 1000)              0         \n",
            "                                                                 \n",
            " dense_3 (Dense)             (None, 17)                17017     \n",
            "                                                                 \n",
            "=================================================================\n",
            "Total params: 94,114,785\n",
            "Trainable params: 94,114,785\n",
            "Non-trainable params: 0\n",
            "_________________________________________________________________\n"
          ]
        }
      ],
      "source": [
        "# a keras implementation of the ALexNet deep learning\n",
        "#neural network and the output of the summary of the model.\n",
        "import keras\n",
        "from keras.models import Sequential\n",
        "from keras.layers import Dense, Dropout, Flatten, Conv2D, MaxPooling2D\n",
        "from tensorflow.keras.layers import BatchNormalization\n",
        "# create the AlexNet model\n",
        "model = Sequential()\n",
        "# 1st Convolutional layer\n",
        "model.add(Conv2D(filters=96, input_shape=(224,224,3), kernel_size=(11,11),\n",
        "                 activation='relu', strides=(4,4), padding='valid'))\n",
        "# 2nd Convolutional layer\n",
        "model.add(Conv2D(filters=256, input_shape=(224,224,3), kernel_size=(11,11),\n",
        "                 activation='relu', strides=(1,1), padding='valid'))\n",
        "model.add(MaxPooling2D(pool_size=(2,2), strides=(2,2), padding='valid'))\n",
        "# 3rd Concolutional layer\n",
        "model.add(Conv2D(filters=384, kernel_size=(3,3),\n",
        "                 activation='relu',strides=(1,1), padding='valid'))\n",
        "# 4th Convolutional layer\n",
        "model.add(Conv2D(filters=384, kernel_size=(3,3), activation='relu', \n",
        "                 strides=(1,1), padding='valid'))\n",
        "# 5th Convolutional Layer\n",
        "model.add(Conv2D(filters=256, kernel_size=(3,3), activation='relu',\n",
        " strides=(1,1), padding='valid'))\n",
        "model.add(MaxPooling2D(pool_size=(2,2), strides=(2,2), padding='valid'))\n",
        "# 1st Fully Connected layer\n",
        "model.add(Flatten())\n",
        "model.add(Dense(4096, activation='relu', input_shape=(224*224*3,)))\n",
        "model.add(Dropout(0.4))\n",
        "# 2nd Fully Connected Layer\n",
        "model.add(Dense(4096,activation='relu'))\n",
        "model.add(Dropout(0.4))\n",
        "# 3rd Fully Connected Layer\n",
        "model.add(Dense(1000,activation='relu'))\n",
        "model.add(Dropout(0.4))\n",
        "# Output Layer\n",
        "model.add(Dense(17,activation='softmax'))\n",
        "model.summary()\n",
        "# Compile the model\n",
        "model.compile(loss=keras.losses.categorical_crossentropy, \n",
        "optimizer='adam', metrics=[\"accuracy\"])"
      ]
    }
  ]
}